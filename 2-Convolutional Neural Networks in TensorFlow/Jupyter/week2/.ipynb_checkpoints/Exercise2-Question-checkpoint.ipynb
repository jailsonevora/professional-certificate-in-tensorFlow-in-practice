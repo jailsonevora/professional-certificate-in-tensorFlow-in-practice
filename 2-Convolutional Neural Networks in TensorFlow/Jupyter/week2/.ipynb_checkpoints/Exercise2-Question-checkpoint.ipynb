version https://git-lfs.github.com/spec/v1
oid sha256:93faca9541ef44e989e5ebd9ffb98ce0e30f14fb6e8a18f7ef5c411328db321b
size 9007
