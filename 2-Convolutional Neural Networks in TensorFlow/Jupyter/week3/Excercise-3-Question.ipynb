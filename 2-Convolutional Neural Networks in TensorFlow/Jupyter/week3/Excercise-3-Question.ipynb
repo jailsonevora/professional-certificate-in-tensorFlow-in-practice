version https://git-lfs.github.com/spec/v1
oid sha256:ef1beb5702631a545ad0239f86b69fac65ca2f3660ba13fff51d540e63e354b1
size 5433
