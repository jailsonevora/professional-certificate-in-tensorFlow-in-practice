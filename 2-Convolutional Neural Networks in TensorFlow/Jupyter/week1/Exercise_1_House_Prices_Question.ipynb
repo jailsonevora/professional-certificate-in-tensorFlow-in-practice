version https://git-lfs.github.com/spec/v1
oid sha256:07178c8596f709401ce3ca9fb7e8143e7031ef80d0ad0179f9b7c97cdf1533a2
size 4551
