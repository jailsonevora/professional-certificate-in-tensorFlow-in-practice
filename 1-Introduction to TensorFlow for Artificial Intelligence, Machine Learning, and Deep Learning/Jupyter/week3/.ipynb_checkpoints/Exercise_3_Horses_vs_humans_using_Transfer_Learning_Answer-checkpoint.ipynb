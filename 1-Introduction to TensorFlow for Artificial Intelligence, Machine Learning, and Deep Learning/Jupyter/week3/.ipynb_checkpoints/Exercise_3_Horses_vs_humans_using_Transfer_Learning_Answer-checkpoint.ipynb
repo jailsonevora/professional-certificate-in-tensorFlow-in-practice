version https://git-lfs.github.com/spec/v1
oid sha256:377c90fcf4d874129a1ee2efa0d3bb3817927f30facbd7c6ad2250a4fd3dd9ef
size 162668
